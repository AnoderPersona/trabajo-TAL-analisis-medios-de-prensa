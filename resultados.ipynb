{
 "cells": [
  {
   "cell_type": "code",
   "execution_count": 1,
   "metadata": {},
   "outputs": [],
   "source": [
    "from tqdm import tqdm # Barra de progreso\n",
    "import transformers"
   ]
  },
  {
   "cell_type": "code",
   "execution_count": 2,
   "metadata": {},
   "outputs": [],
   "source": [
    "#Cambiar nombre modelo\n",
    "# model_name = \"./saved_model/\"\n",
    "model_name = \"finiteautomata/beto-sentiment-analysis\"\n",
    "from transformers import AutoTokenizer, AutoModelForSequenceClassification\n",
    "\n",
    "model = AutoModelForSequenceClassification.from_pretrained(model_name)\n",
    "tokenizer = AutoTokenizer.from_pretrained(model_name)"
   ]
  },
  {
   "cell_type": "code",
   "execution_count": 3,
   "metadata": {},
   "outputs": [],
   "source": [
    "from transformers import pipeline\n",
    "nlp = pipeline(\"sentiment-analysis\", model=model, tokenizer=tokenizer)"
   ]
  },
  {
   "cell_type": "code",
   "execution_count": 4,
   "metadata": {},
   "outputs": [
    {
     "data": {
      "text/html": [
       "<div>\n",
       "<style scoped>\n",
       "    .dataframe tbody tr th:only-of-type {\n",
       "        vertical-align: middle;\n",
       "    }\n",
       "\n",
       "    .dataframe tbody tr th {\n",
       "        vertical-align: top;\n",
       "    }\n",
       "\n",
       "    .dataframe thead th {\n",
       "        text-align: right;\n",
       "    }\n",
       "</style>\n",
       "<table border=\"1\" class=\"dataframe\">\n",
       "  <thead>\n",
       "    <tr style=\"text-align: right;\">\n",
       "      <th></th>\n",
       "      <th>id_news</th>\n",
       "      <th>title</th>\n",
       "      <th>date</th>\n",
       "    </tr>\n",
       "  </thead>\n",
       "  <tbody>\n",
       "    <tr>\n",
       "      <th>0</th>\n",
       "      <td>21443510.0</td>\n",
       "      <td>Para series menores de Puerto Varas y Puerto M...</td>\n",
       "      <td>2021-08-13</td>\n",
       "    </tr>\n",
       "    <tr>\n",
       "      <th>1</th>\n",
       "      <td>21469264.0</td>\n",
       "      <td>Puerto Montt: Hoy comienza el ciclo de concier...</td>\n",
       "      <td>2021-12-14</td>\n",
       "    </tr>\n",
       "    <tr>\n",
       "      <th>2</th>\n",
       "      <td>21940337.0</td>\n",
       "      <td>Más de 2500 rezagados fueron vacunados este fi...</td>\n",
       "      <td>2021-07-25</td>\n",
       "    </tr>\n",
       "    <tr>\n",
       "      <th>3</th>\n",
       "      <td>21469757.0</td>\n",
       "      <td>Así fue la marcha por el 18 de Octubre en Puer...</td>\n",
       "      <td>2021-10-19</td>\n",
       "    </tr>\n",
       "    <tr>\n",
       "      <th>4</th>\n",
       "      <td>47390948.0</td>\n",
       "      <td>De los artistas José Reyes y Gastón Ampuero: H...</td>\n",
       "      <td>2021-11-05</td>\n",
       "    </tr>\n",
       "    <tr>\n",
       "      <th>...</th>\n",
       "      <td>...</td>\n",
       "      <td>...</td>\n",
       "      <td>...</td>\n",
       "    </tr>\n",
       "    <tr>\n",
       "      <th>2703</th>\n",
       "      <td>21384707.0</td>\n",
       "      <td>¡Castro te quiero ver de pie…!</td>\n",
       "      <td>2021-12-10</td>\n",
       "    </tr>\n",
       "    <tr>\n",
       "      <th>2704</th>\n",
       "      <td>21391930.0</td>\n",
       "      <td>Víctor Hugo Catalán – poeta y narrador</td>\n",
       "      <td>2021-08-29</td>\n",
       "    </tr>\n",
       "    <tr>\n",
       "      <th>2705</th>\n",
       "      <td>21378371.0</td>\n",
       "      <td>Jordi Valenzuela Muñoz: una apuesta joven para...</td>\n",
       "      <td>2021-10-16</td>\n",
       "    </tr>\n",
       "    <tr>\n",
       "      <th>2706</th>\n",
       "      <td>47522784.0</td>\n",
       "      <td>\"El cambio climático puede tener grandes efect...</td>\n",
       "      <td>2021-08-24</td>\n",
       "    </tr>\n",
       "    <tr>\n",
       "      <th>2707</th>\n",
       "      <td>47519443.0</td>\n",
       "      <td>\"Es absurdo que sea el delegado quien se va a ...</td>\n",
       "      <td>2021-07-16</td>\n",
       "    </tr>\n",
       "  </tbody>\n",
       "</table>\n",
       "<p>2708 rows × 3 columns</p>\n",
       "</div>"
      ],
      "text/plain": [
       "         id_news                                              title  \\\n",
       "0     21443510.0  Para series menores de Puerto Varas y Puerto M...   \n",
       "1     21469264.0  Puerto Montt: Hoy comienza el ciclo de concier...   \n",
       "2     21940337.0  Más de 2500 rezagados fueron vacunados este fi...   \n",
       "3     21469757.0  Así fue la marcha por el 18 de Octubre en Puer...   \n",
       "4     47390948.0  De los artistas José Reyes y Gastón Ampuero: H...   \n",
       "...          ...                                                ...   \n",
       "2703  21384707.0                     ¡Castro te quiero ver de pie…!   \n",
       "2704  21391930.0             Víctor Hugo Catalán – poeta y narrador   \n",
       "2705  21378371.0  Jordi Valenzuela Muñoz: una apuesta joven para...   \n",
       "2706  47522784.0  \"El cambio climático puede tener grandes efect...   \n",
       "2707  47519443.0  \"Es absurdo que sea el delegado quien se va a ...   \n",
       "\n",
       "            date  \n",
       "0     2021-08-13  \n",
       "1     2021-12-14  \n",
       "2     2021-07-25  \n",
       "3     2021-10-19  \n",
       "4     2021-11-05  \n",
       "...          ...  \n",
       "2703  2021-12-10  \n",
       "2704  2021-08-29  \n",
       "2705  2021-10-16  \n",
       "2706  2021-08-24  \n",
       "2707  2021-07-16  \n",
       "\n",
       "[2708 rows x 3 columns]"
      ]
     },
     "execution_count": 4,
     "metadata": {},
     "output_type": "execute_result"
    }
   ],
   "source": [
    "import pandas\n",
    "\n",
    "archivo = \"./data/PuertoMontt_chile_2021-07-01_2021-12-31_FILTRADO.csv\"\n",
    "dataset = pandas.read_csv(archivo)\n",
    "dataset"
   ]
  },
  {
   "cell_type": "code",
   "execution_count": 5,
   "metadata": {},
   "outputs": [
    {
     "name": "stderr",
     "output_type": "stream",
     "text": [
      "Análisis de sentimiento: 100%|██████████| 2708/2708 [07:08<00:00,  6.32it/s]\n"
     ]
    }
   ],
   "source": [
    "dataset['title_label'] = \"\"\n",
    "dataset['title_score'] = \"\"\n",
    "\n",
    "for index, row in tqdm(dataset.iterrows(), desc='Análisis de sentimiento', total=dataset.shape[0]):\n",
    "    \n",
    "    # Analizamos su sentimiento en inglés\n",
    "    sentiment_value = nlp(row['title'])\n",
    "    \n",
    "    # Insertamos en dataframe\n",
    "    dataset.at[index, \"title_label\"] = sentiment_value[0].get('label')\n",
    "    dataset.at[index, \"title_score\"] = sentiment_value[0].get('score')"
   ]
  },
  {
   "cell_type": "code",
   "execution_count": 20,
   "metadata": {},
   "outputs": [
    {
     "name": "stdout",
     "output_type": "stream",
     "text": [
      "Puerto Montt quedó como único líder de la Primera B\n",
      "NEG\n",
      "0.9735963940620422\n"
     ]
    }
   ],
   "source": [
    "doc=560\n",
    "print(dataset['title'][doc])\n",
    "print(dataset['title_label'][doc])\n",
    "print(dataset['title_score'][doc])"
   ]
  },
  {
   "cell_type": "code",
   "execution_count": 18,
   "metadata": {},
   "outputs": [],
   "source": [
    "dataset_negativos = dataset.where(dataset['title_label'] == 'NEG').dropna()\n",
    "dataset_positivos = dataset.where(dataset['title_label'] == 'POS').dropna()"
   ]
  },
  {
   "cell_type": "code",
   "execution_count": 17,
   "metadata": {},
   "outputs": [
    {
     "data": {
      "text/html": [
       "<div>\n",
       "<style scoped>\n",
       "    .dataframe tbody tr th:only-of-type {\n",
       "        vertical-align: middle;\n",
       "    }\n",
       "\n",
       "    .dataframe tbody tr th {\n",
       "        vertical-align: top;\n",
       "    }\n",
       "\n",
       "    .dataframe thead th {\n",
       "        text-align: right;\n",
       "    }\n",
       "</style>\n",
       "<table border=\"1\" class=\"dataframe\">\n",
       "  <thead>\n",
       "    <tr style=\"text-align: right;\">\n",
       "      <th></th>\n",
       "      <th>id_news</th>\n",
       "      <th>title</th>\n",
       "      <th>date</th>\n",
       "      <th>title_label</th>\n",
       "      <th>title_score</th>\n",
       "    </tr>\n",
       "  </thead>\n",
       "  <tbody>\n",
       "    <tr>\n",
       "      <th>0</th>\n",
       "      <td>21443510.0</td>\n",
       "      <td>Para series menores de Puerto Varas y Puerto M...</td>\n",
       "      <td>2021-08-13</td>\n",
       "      <td>POS</td>\n",
       "      <td>0.999743</td>\n",
       "    </tr>\n",
       "    <tr>\n",
       "      <th>1</th>\n",
       "      <td>21469264.0</td>\n",
       "      <td>Puerto Montt: Hoy comienza el ciclo de concier...</td>\n",
       "      <td>2021-12-14</td>\n",
       "      <td>POS</td>\n",
       "      <td>0.999865</td>\n",
       "    </tr>\n",
       "    <tr>\n",
       "      <th>2</th>\n",
       "      <td>21940337.0</td>\n",
       "      <td>Más de 2500 rezagados fueron vacunados este fi...</td>\n",
       "      <td>2021-07-25</td>\n",
       "      <td>POS</td>\n",
       "      <td>0.999808</td>\n",
       "    </tr>\n",
       "    <tr>\n",
       "      <th>3</th>\n",
       "      <td>21469757.0</td>\n",
       "      <td>Así fue la marcha por el 18 de Octubre en Puer...</td>\n",
       "      <td>2021-10-19</td>\n",
       "      <td>POS</td>\n",
       "      <td>0.99976</td>\n",
       "    </tr>\n",
       "    <tr>\n",
       "      <th>7</th>\n",
       "      <td>21425546.0</td>\n",
       "      <td>En la Sede UACh se realizará XXII Congreso Nac...</td>\n",
       "      <td>2021-12-03</td>\n",
       "      <td>POS</td>\n",
       "      <td>0.993462</td>\n",
       "    </tr>\n",
       "    <tr>\n",
       "      <th>...</th>\n",
       "      <td>...</td>\n",
       "      <td>...</td>\n",
       "      <td>...</td>\n",
       "      <td>...</td>\n",
       "      <td>...</td>\n",
       "    </tr>\n",
       "    <tr>\n",
       "      <th>2703</th>\n",
       "      <td>21384707.0</td>\n",
       "      <td>¡Castro te quiero ver de pie…!</td>\n",
       "      <td>2021-12-10</td>\n",
       "      <td>POS</td>\n",
       "      <td>0.999699</td>\n",
       "    </tr>\n",
       "    <tr>\n",
       "      <th>2704</th>\n",
       "      <td>21391930.0</td>\n",
       "      <td>Víctor Hugo Catalán – poeta y narrador</td>\n",
       "      <td>2021-08-29</td>\n",
       "      <td>POS</td>\n",
       "      <td>0.999865</td>\n",
       "    </tr>\n",
       "    <tr>\n",
       "      <th>2705</th>\n",
       "      <td>21378371.0</td>\n",
       "      <td>Jordi Valenzuela Muñoz: una apuesta joven para...</td>\n",
       "      <td>2021-10-16</td>\n",
       "      <td>POS</td>\n",
       "      <td>0.999873</td>\n",
       "    </tr>\n",
       "    <tr>\n",
       "      <th>2706</th>\n",
       "      <td>47522784.0</td>\n",
       "      <td>\"El cambio climático puede tener grandes efect...</td>\n",
       "      <td>2021-08-24</td>\n",
       "      <td>POS</td>\n",
       "      <td>0.9996</td>\n",
       "    </tr>\n",
       "    <tr>\n",
       "      <th>2707</th>\n",
       "      <td>47519443.0</td>\n",
       "      <td>\"Es absurdo que sea el delegado quien se va a ...</td>\n",
       "      <td>2021-07-16</td>\n",
       "      <td>POS</td>\n",
       "      <td>0.99927</td>\n",
       "    </tr>\n",
       "  </tbody>\n",
       "</table>\n",
       "<p>1567 rows × 5 columns</p>\n",
       "</div>"
      ],
      "text/plain": [
       "         id_news                                              title  \\\n",
       "0     21443510.0  Para series menores de Puerto Varas y Puerto M...   \n",
       "1     21469264.0  Puerto Montt: Hoy comienza el ciclo de concier...   \n",
       "2     21940337.0  Más de 2500 rezagados fueron vacunados este fi...   \n",
       "3     21469757.0  Así fue la marcha por el 18 de Octubre en Puer...   \n",
       "7     21425546.0  En la Sede UACh se realizará XXII Congreso Nac...   \n",
       "...          ...                                                ...   \n",
       "2703  21384707.0                     ¡Castro te quiero ver de pie…!   \n",
       "2704  21391930.0             Víctor Hugo Catalán – poeta y narrador   \n",
       "2705  21378371.0  Jordi Valenzuela Muñoz: una apuesta joven para...   \n",
       "2706  47522784.0  \"El cambio climático puede tener grandes efect...   \n",
       "2707  47519443.0  \"Es absurdo que sea el delegado quien se va a ...   \n",
       "\n",
       "            date title_label title_score  \n",
       "0     2021-08-13         POS    0.999743  \n",
       "1     2021-12-14         POS    0.999865  \n",
       "2     2021-07-25         POS    0.999808  \n",
       "3     2021-10-19         POS     0.99976  \n",
       "7     2021-12-03         POS    0.993462  \n",
       "...          ...         ...         ...  \n",
       "2703  2021-12-10         POS    0.999699  \n",
       "2704  2021-08-29         POS    0.999865  \n",
       "2705  2021-10-16         POS    0.999873  \n",
       "2706  2021-08-24         POS      0.9996  \n",
       "2707  2021-07-16         POS     0.99927  \n",
       "\n",
       "[1567 rows x 5 columns]"
      ]
     },
     "execution_count": 17,
     "metadata": {},
     "output_type": "execute_result"
    }
   ],
   "source": [
    "dataset_positivos"
   ]
  },
  {
   "cell_type": "code",
   "execution_count": 19,
   "metadata": {},
   "outputs": [],
   "source": [
    "dataset_negativos.to_csv('./data/PuertoMontt_chile_2021-07-01_2021-12-31_NEGATIVOS_BETO.csv', index=False)\n",
    "dataset_positivos.to_csv('./data/PuertoMontt_chile_2021-07-01_2021-12-31_POSITIVOS_BETO.csv', index=False)"
   ]
  },
  {
   "cell_type": "code",
   "execution_count": 21,
   "metadata": {},
   "outputs": [
    {
     "data": {
      "text/plain": [
       "0.2710487444608567"
      ]
     },
     "execution_count": 21,
     "metadata": {},
     "output_type": "execute_result"
    }
   ],
   "source": [
    "#Tasa de noticias negativas\n",
    "len(dataset_negativos)/len(dataset)"
   ]
  },
  {
   "cell_type": "code",
   "execution_count": 22,
   "metadata": {},
   "outputs": [
    {
     "data": {
      "text/plain": [
       "0.09711964549483014"
      ]
     },
     "execution_count": 22,
     "metadata": {},
     "output_type": "execute_result"
    }
   ],
   "source": [
    "#Tasa de noticias positivas\n",
    "len(dataset_positivos)/len(dataset)"
   ]
  }
 ],
 "metadata": {
  "kernelspec": {
   "display_name": "Python 3.9.7 ('base')",
   "language": "python",
   "name": "python3"
  },
  "language_info": {
   "codemirror_mode": {
    "name": "ipython",
    "version": 3
   },
   "file_extension": ".py",
   "mimetype": "text/x-python",
   "name": "python",
   "nbconvert_exporter": "python",
   "pygments_lexer": "ipython3",
   "version": "3.9.7"
  },
  "orig_nbformat": 4,
  "vscode": {
   "interpreter": {
    "hash": "1edb9aa2f12be176843aa1b850606f013f89b0b3e6888c2fdb15b7abba1365c7"
   }
  }
 },
 "nbformat": 4,
 "nbformat_minor": 2
}
