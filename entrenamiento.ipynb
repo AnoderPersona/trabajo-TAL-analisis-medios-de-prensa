{
 "cells": [
  {
   "cell_type": "code",
   "execution_count": 3,
   "metadata": {},
   "outputs": [
    {
     "name": "stderr",
     "output_type": "stream",
     "text": [
      "Using custom data configuration default-fdb4a1a13dbc4e72\n",
      "Found cached dataset csv (/home/usuariop/.cache/huggingface/datasets/csv/default-fdb4a1a13dbc4e72/0.0.0/6b34fb8fcf56f7c8ba51dc895bfa2bfbe43546f190a60fcf74bb5e8afdcc2317)\n"
     ]
    }
   ],
   "source": [
    "import numpy as np\n",
    "import pandas as pd\n",
    "from datasets import load_dataset, load_metric, Features, ClassLabel, Value\n",
    "\n",
    "trans_labels = [\"POS\",\"NEG\",\"NEU\"]\n",
    "\n",
    "trans = {\n",
    "    'POS': 0,\n",
    "    'NEG': 1,\n",
    "    'NEU': 2\n",
    "}\n",
    "\n",
    "features = Features({\n",
    "    'index': Value(dtype='uint64'),\n",
    "    'id_news': Value(dtype='uint64'),\n",
    "    'title': Value(dtype='string'),\n",
    "    'label': ClassLabel(names=trans_labels)\n",
    "})\n",
    "\n",
    "raw_data = load_dataset(\n",
    "    'csv', data_files='./data/new_dataset.csv', split='train',\n",
    "    skiprows=[0],\n",
    "    column_names=[\"index\", \"id_news\", \"title\", \"label\"],\n",
    "    features=features\n",
    ")\n",
    "\n",
    "raw_data = raw_data.rename_column('title', 'text')\n",
    "raw_data = raw_data.train_test_split(0.2, 0.8)\n"
   ]
  },
  {
   "cell_type": "code",
   "execution_count": 4,
   "metadata": {},
   "outputs": [
    {
     "name": "stderr",
     "output_type": "stream",
     "text": [
      "100%|██████████| 1/1 [00:00<00:00, 15.31ba/s]\n",
      "100%|██████████| 1/1 [00:00<00:00, 60.69ba/s]\n"
     ]
    }
   ],
   "source": [
    "from transformers import AutoTokenizer, AutoModelForSequenceClassification, pipeline\n",
    "\n",
    "model_name = \"finiteautomata/beto-sentiment-analysis\"\n",
    "\n",
    "model = AutoModelForSequenceClassification.from_pretrained(model_name)\n",
    "tokenizer = AutoTokenizer.from_pretrained(model_name)\n",
    "\n",
    "def tokenize_function(examples):\n",
    "    return tokenizer(examples[\"text\"], padding=\"max_length\", truncation=True)\n",
    "\n",
    "tokenized_datasets = raw_data.map(tokenize_function, batched=True)\n",
    "\n",
    "nlp = pipeline(\"sentiment-analysis\", model=model, tokenizer=tokenizer)"
   ]
  },
  {
   "cell_type": "code",
   "execution_count": 5,
   "metadata": {},
   "outputs": [
    {
     "data": {
      "text/plain": [
       "DatasetDict({\n",
       "    train: Dataset({\n",
       "        features: ['index', 'id_news', 'text', 'label', 'input_ids', 'token_type_ids', 'attention_mask'],\n",
       "        num_rows: 262\n",
       "    })\n",
       "    test: Dataset({\n",
       "        features: ['index', 'id_news', 'text', 'label', 'input_ids', 'token_type_ids', 'attention_mask'],\n",
       "        num_rows: 66\n",
       "    })\n",
       "})"
      ]
     },
     "execution_count": 5,
     "metadata": {},
     "output_type": "execute_result"
    }
   ],
   "source": [
    "tokenized_datasets"
   ]
  },
  {
   "cell_type": "code",
   "execution_count": 6,
   "metadata": {},
   "outputs": [
    {
     "data": {
      "text/plain": [
       "[{'label': 'POS', 'score': 0.9894223809242249}]"
      ]
     },
     "execution_count": 6,
     "metadata": {},
     "output_type": "execute_result"
    }
   ],
   "source": [
    "# Example:\n",
    "nlp(\"Esto es una prueba larga de algo positivo\")"
   ]
  },
  {
   "cell_type": "code",
   "execution_count": 7,
   "metadata": {},
   "outputs": [],
   "source": [
    "small_train_dataset = tokenized_datasets[\"train\"].shuffle(seed=42).select(range(262))\n",
    "\n",
    "small_eval_dataset = tokenized_datasets[\"test\"].shuffle(seed=42).select(range(66))"
   ]
  },
  {
   "cell_type": "code",
   "execution_count": 8,
   "metadata": {},
   "outputs": [
    {
     "name": "stderr",
     "output_type": "stream",
     "text": [
      "The following columns in the evaluation set don't have a corresponding argument in `BertForSequenceClassification.forward` and have been ignored: index, id_news, text. If index, id_news, text are not expected by `BertForSequenceClassification.forward`,  you can safely ignore this message.\n",
      "***** Running Evaluation *****\n",
      "  Num examples = 66\n",
      "  Batch size = 8\n",
      "You're using a BertTokenizerFast tokenizer. Please note that with a fast tokenizer, using the `__call__` method is faster than using a method to encode the text followed by a call to the `pad` method to get a padded encoding.\n",
      " 89%|████████▉ | 8/9 [00:02<00:00,  3.42it/s]/tmp/ipykernel_16016/479460087.py:13: FutureWarning: load_metric is deprecated and will be removed in the next major version of datasets. Use 'evaluate.load' instead, from the new library 🤗 Evaluate: https://huggingface.co/docs/evaluate\n",
      "  metric[met] = load_metric(met)\n"
     ]
    },
    {
     "name": "stdout",
     "output_type": "stream",
     "text": [
      "Computing!\n"
     ]
    },
    {
     "name": "stderr",
     "output_type": "stream",
     "text": [
      "100%|██████████| 9/9 [00:03<00:00,  2.75it/s]\n"
     ]
    },
    {
     "data": {
      "text/plain": [
       "{'eval_loss': 4.656469821929932,\n",
       " 'eval_accuracy': 0.12121212121212122,\n",
       " 'eval_runtime': 4.0589,\n",
       " 'eval_samples_per_second': 16.261,\n",
       " 'eval_steps_per_second': 2.217}"
      ]
     },
     "execution_count": 8,
     "metadata": {},
     "output_type": "execute_result"
    }
   ],
   "source": [
    "from transformers import Trainer, TrainingArguments\n",
    "from metrics import get_confusion_matrix\n",
    "import torch\n",
    "from evaluate import evaluator, load as ev_load\n",
    "# Sentiment analysis evaluator\n",
    "\n",
    "\n",
    "def compute_metrics(eval_pred):\n",
    "    print(\"Computing!\")\n",
    "    metrics = [\"accuracy\"]#, \"f1\"]#, \"precision\", \"recall\"]#, \"f1\"]# List of metrics to return\n",
    "    metric = {}\n",
    "    for met in metrics:\n",
    "        metric[met] = load_metric(met)\n",
    "    logits, labels = eval_pred\n",
    "    predictions = np.argmax(logits, axis=-1)\n",
    "    metric_res = {}\n",
    "    for met in metrics:\n",
    "        metric_res[met] = metric[met].compute(\n",
    "            predictions=predictions, references=labels)[met]\n",
    "    return metric_res\n",
    "\n",
    "\n",
    "training_args = TrainingArguments(\n",
    "    \"test_trainer\", label_names=trans_labels)\n",
    "\n",
    "#model#.to(torch.device(\"cpu\"))\n",
    "\n",
    "training_args = TrainingArguments(\n",
    "    \"test_trainer\",\n",
    "    #label_names=['POS', 'NEG', 'NEU'],\n",
    "    # output_dir=\"results\",\n",
    "    num_train_epochs=10,\n",
    "    per_device_train_batch_size=4,\n",
    "    # disable_tqdm=False,\n",
    "    #logging_steps=\n",
    ")\n",
    "\n",
    "trainer = Trainer(\n",
    "    model=model,\n",
    "    args=training_args,\n",
    "    train_dataset=small_train_dataset,\n",
    "    eval_dataset=small_eval_dataset,\n",
    "    tokenizer=tokenizer,\n",
    "    compute_metrics=compute_metrics,\n",
    ")\n",
    "\n",
    "ev = evaluator(\"sentiment-analysis\")\n",
    "\n",
    "#trainer = Trainer(model=model, args=training_args, train_dataset=small_train_dataset, eval_dataset=small_eval_dataset)\n",
    "trainer.evaluate()"
   ]
  },
  {
   "cell_type": "code",
   "execution_count": 9,
   "metadata": {},
   "outputs": [
    {
     "name": "stderr",
     "output_type": "stream",
     "text": [
      "Disabling tokenizer parallelism, we're using DataLoader multithreading already\n"
     ]
    },
    {
     "data": {
      "text/plain": [
       "{'accuracy': 0.5151515151515151,\n",
       " 'total_time_in_seconds': 0.5562133630010067,\n",
       " 'samples_per_second': 118.6595008144034,\n",
       " 'latency_in_seconds': 0.00842747519698495}"
      ]
     },
     "execution_count": 9,
     "metadata": {},
     "output_type": "execute_result"
    }
   ],
   "source": [
    "import evaluate\n",
    "# ev.load_data(raw_data[\"test\"])\n",
    "ev.compute(\n",
    "    model_or_pipeline=model,\n",
    "    data=raw_data[\"test\"],\n",
    "    metric=evaluate.combine([\"accuracy\"]),\n",
    "    tokenizer=tokenizer,\n",
    "    label_mapping=trans\n",
    ")\n"
   ]
  },
  {
   "cell_type": "code",
   "execution_count": 10,
   "metadata": {},
   "outputs": [],
   "source": [
    "### Predictions of the train-dataset ###\n",
    "\n",
    "model.to(torch.device(\"cpu\"))\n",
    "human_labels = raw_data[\"train\"][\"label\"]\n",
    "\n",
    "#text = torch.tensor(raw_data[\"train\"][\"text\"])\n",
    "text = raw_data[\"train\"][\"text\"]\n",
    "pretrain_labels = nlp(text)\n",
    "pretrain_labels = [trans[row[\"label\"]] for row in pretrain_labels]"
   ]
  },
  {
   "cell_type": "code",
   "execution_count": 11,
   "metadata": {},
   "outputs": [
    {
     "name": "stderr",
     "output_type": "stream",
     "text": [
      "The following columns in the training set don't have a corresponding argument in `BertForSequenceClassification.forward` and have been ignored: index, id_news, text. If index, id_news, text are not expected by `BertForSequenceClassification.forward`,  you can safely ignore this message.\n",
      "/home/usuariop/miniconda3/lib/python3.9/site-packages/transformers/optimization.py:306: FutureWarning: This implementation of AdamW is deprecated and will be removed in a future version. Use the PyTorch implementation torch.optim.AdamW instead, or set `no_deprecation_warning=True` to disable this warning\n",
      "  warnings.warn(\n",
      "***** Running training *****\n",
      "  Num examples = 262\n",
      "  Num Epochs = 10\n",
      "  Instantaneous batch size per device = 4\n",
      "  Total train batch size (w. parallel, distributed & accumulation) = 4\n",
      "  Gradient Accumulation steps = 1\n",
      "  Total optimization steps = 660\n",
      "  Number of trainable parameters = 109856259\n",
      " 76%|███████▌  | 500/660 [03:48<01:13,  2.17it/s]Saving model checkpoint to test_trainer/checkpoint-500\n",
      "Configuration saved in test_trainer/checkpoint-500/config.json\n"
     ]
    },
    {
     "name": "stdout",
     "output_type": "stream",
     "text": [
      "{'loss': 0.2617, 'learning_rate': 1.2121212121212122e-05, 'epoch': 7.58}\n"
     ]
    },
    {
     "name": "stderr",
     "output_type": "stream",
     "text": [
      "Model weights saved in test_trainer/checkpoint-500/pytorch_model.bin\n",
      "tokenizer config file saved in test_trainer/checkpoint-500/tokenizer_config.json\n",
      "Special tokens file saved in test_trainer/checkpoint-500/special_tokens_map.json\n",
      "100%|██████████| 660/660 [05:03<00:00,  2.44it/s]\n",
      "\n",
      "Training completed. Do not forget to share your model on huggingface.co/models =)\n",
      "\n",
      "\n",
      "100%|██████████| 660/660 [05:03<00:00,  2.17it/s]\n",
      "Saving model checkpoint to ./saved_model/\n",
      "Configuration saved in ./saved_model/config.json\n"
     ]
    },
    {
     "name": "stdout",
     "output_type": "stream",
     "text": [
      "{'train_runtime': 303.9482, 'train_samples_per_second': 8.62, 'train_steps_per_second': 2.171, 'train_loss': 0.1983146507857424, 'epoch': 10.0}\n"
     ]
    },
    {
     "name": "stderr",
     "output_type": "stream",
     "text": [
      "Model weights saved in ./saved_model/pytorch_model.bin\n",
      "tokenizer config file saved in ./saved_model/tokenizer_config.json\n",
      "Special tokens file saved in ./saved_model/special_tokens_map.json\n"
     ]
    }
   ],
   "source": [
    "### Check if must train ###\n",
    "import os\n",
    "\n",
    "fpath = \"./saved_model/\"\n",
    "if os.path.exists(fpath):\n",
    "    model = AutoModelForSequenceClassification.from_pretrained(\n",
    "        fpath, local_files_only=True)\n",
    "    trainer = Trainer(\n",
    "        model=model,\n",
    "        args=training_args,\n",
    "        train_dataset=small_train_dataset,\n",
    "        eval_dataset=small_eval_dataset,\n",
    "        tokenizer=tokenizer,\n",
    "        compute_metrics=compute_metrics,\n",
    "    )\n",
    "else:\n",
    "    model.to(torch.device(\"cuda\"))\n",
    "    trainer.train()\n",
    "    trainer.save_model(\"./saved_model/\")\n"
   ]
  },
  {
   "cell_type": "code",
   "execution_count": 12,
   "metadata": {},
   "outputs": [
    {
     "name": "stderr",
     "output_type": "stream",
     "text": [
      "The following columns in the evaluation set don't have a corresponding argument in `BertForSequenceClassification.forward` and have been ignored: index, id_news, text. If index, id_news, text are not expected by `BertForSequenceClassification.forward`,  you can safely ignore this message.\n",
      "***** Running Evaluation *****\n",
      "  Num examples = 66\n",
      "  Batch size = 8\n",
      " 89%|████████▉ | 8/9 [00:02<00:00,  3.35it/s]"
     ]
    },
    {
     "name": "stdout",
     "output_type": "stream",
     "text": [
      "Computing!\n"
     ]
    },
    {
     "name": "stderr",
     "output_type": "stream",
     "text": [
      "100%|██████████| 9/9 [00:04<00:00,  1.99it/s]\n"
     ]
    },
    {
     "data": {
      "text/plain": [
       "{'eval_loss': 2.366053819656372,\n",
       " 'eval_accuracy': 0.7121212121212122,\n",
       " 'eval_runtime': 4.884,\n",
       " 'eval_samples_per_second': 13.513,\n",
       " 'eval_steps_per_second': 1.843,\n",
       " 'epoch': 10.0}"
      ]
     },
     "execution_count": 12,
     "metadata": {},
     "output_type": "execute_result"
    }
   ],
   "source": [
    "res = trainer.evaluate()\n",
    "res"
   ]
  },
  {
   "cell_type": "code",
   "execution_count": 13,
   "metadata": {},
   "outputs": [],
   "source": [
    "model.to(torch.device(\"cpu\"))\n",
    "text = raw_data[\"train\"][\"text\"]\n",
    "pred_labels = nlp(text)\n",
    "pred_labels = [trans[row[\"label\"]] for row in pred_labels]"
   ]
  },
  {
   "attachments": {},
   "cell_type": "markdown",
   "metadata": {},
   "source": [
    "## Metricas"
   ]
  },
  {
   "cell_type": "code",
   "execution_count": 14,
   "metadata": {},
   "outputs": [
    {
     "name": "stdout",
     "output_type": "stream",
     "text": [
      "Human label v/s pretrain_labels\n",
      "      POS  NEG  NEU\n",
      "POS [   6,   7,  54]\n",
      "NEG [   0,  24,   4]\n",
      "NEU [  13,  52, 102]\n"
     ]
    }
   ],
   "source": [
    "print(\"Human label v/s pretrain_labels\")\n",
    "m = get_confusion_matrix(human_labels, pretrain_labels)\n",
    "print(\"      \" + \"  \".join(n for n in trans_labels))\n",
    "for label, l in zip(trans_labels, m):\n",
    "    print(f\"{label} [{l[0]:4d},{l[1]:4d},{l[2]:4d}]\")\n"
   ]
  },
  {
   "cell_type": "code",
   "execution_count": 15,
   "metadata": {},
   "outputs": [
    {
     "name": "stdout",
     "output_type": "stream",
     "text": [
      "Human label v/s pred_labels\n",
      "      POS  NEG  NEU\n",
      "POS [   0,  67,   0]\n",
      "NEG [   0,   0,  28]\n",
      "NEU [ 167,   0,   0]\n"
     ]
    }
   ],
   "source": [
    "print(\"Human label v/s pred_labels\")\n",
    "m = get_confusion_matrix(human_labels, pred_labels)\n",
    "print(\"      \" + \"  \".join(n for n in trans_labels))\n",
    "for label, l in zip(trans_labels, m):\n",
    "    print(f\"{label} [{l[0]:4d},{l[1]:4d},{l[2]:4d}]\")\n"
   ]
  },
  {
   "cell_type": "code",
   "execution_count": null,
   "metadata": {},
   "outputs": [
    {
     "ename": "",
     "evalue": "",
     "output_type": "error",
     "traceback": [
      "\u001b[1;31mnotebook controller is DISPOSED. \n",
      "\u001b[1;31mView Jupyter <a href='command:jupyter.viewOutput'>log</a> for further details."
     ]
    }
   ],
   "source": []
  }
 ],
 "metadata": {
  "kernelspec": {
   "display_name": "base",
   "language": "python",
   "name": "python3"
  },
  "language_info": {
   "codemirror_mode": {
    "name": "ipython",
    "version": 3
   },
   "file_extension": ".py",
   "mimetype": "text/x-python",
   "name": "python",
   "nbconvert_exporter": "python",
   "pygments_lexer": "ipython3",
   "version": "3.9.13"
  },
  "orig_nbformat": 4,
  "vscode": {
   "interpreter": {
    "hash": "befeb9f593cd3d435a278b211712fa4e8e7b5b47023d54d61c456bde9a6aaab4"
   }
  }
 },
 "nbformat": 4,
 "nbformat_minor": 2
}
